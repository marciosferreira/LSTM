{
  "nbformat": 4,
  "nbformat_minor": 0,
  "metadata": {
    "celltoolbar": "Raw Cell Format",
    "kernelspec": {
      "display_name": "Python 3",
      "language": "python",
      "name": "python3"
    },
    "language_info": {
      "codemirror_mode": {
        "name": "ipython",
        "version": 3
      },
      "file_extension": ".py",
      "mimetype": "text/x-python",
      "name": "python",
      "nbconvert_exporter": "python",
      "pygments_lexer": "ipython3",
      "version": "3.5.6"
    },
    "colab": {
      "name": "ResultadoFinal (3) (1).ipynb",
      "provenance": []
    }
  },
  "cells": [
    {
      "cell_type": "markdown",
      "metadata": {
        "id": "CJa9yvevnJjq",
        "colab_type": "text"
      },
      "source": [
        "\n",
        "\n",
        "# **Using Convolutional Neural Network (CNN) and Long Short-Term Memory (LSTM) for velocity detection of swimming fishes**\n",
        "\n",
        "\n",
        "\n",
        "\n"
      ]
    },
    {
      "cell_type": "code",
      "metadata": {
        "id": "3Pw5ZHtdlerp",
        "colab_type": "code",
        "colab": {}
      },
      "source": [
        "timesteps = 25"
      ],
      "execution_count": null,
      "outputs": []
    },
    {
      "cell_type": "code",
      "metadata": {
        "id": "UaUmZRholerv",
        "colab_type": "code",
        "colab": {}
      },
      "source": [
        "batch_size = 1\n"
      ],
      "execution_count": null,
      "outputs": []
    },
    {
      "cell_type": "markdown",
      "metadata": {
        "id": "_ytNSOAFpfs5",
        "colab_type": "text"
      },
      "source": [
        "### **load the required libraries**\n"
      ]
    },
    {
      "cell_type": "code",
      "metadata": {
        "id": "uX8WJA7Plery",
        "colab_type": "code",
        "colab": {}
      },
      "source": [
        "import cv2     # for capturing videos\n",
        "import math   # for mathematical operations\n",
        "import matplotlib.pyplot as plt    # for plotting the images\n",
        "%matplotlib inline\n",
        "import pandas as pd\n",
        "from keras.preprocessing import image   # for preprocessing the images\n",
        "import numpy as np    # for mathematical operations\n",
        "from keras.utils import np_utils\n",
        "from skimage.transform import resize   # for resizing images\n",
        "from keras.models import Sequential\n",
        "from keras.layers import Conv2D, MaxPooling2D, Flatten, Dense, LSTM, Embedding, Dropout, Activation\n",
        "from keras.layers import TimeDistributed\n",
        "import glob\n",
        "import sys\n",
        "import numpy\n",
        "numpy.set_printoptions(threshold=sys.maxsize)\n",
        "from keras.models import model_from_yaml\n",
        "from livelossplot import PlotLossesKeras\n",
        "from keras import optimizers\n",
        "\n"
      ],
      "execution_count": null,
      "outputs": []
    },
    {
      "cell_type": "markdown",
      "metadata": {
        "id": "uXbcFPgRmtNV",
        "colab_type": "text"
      },
      "source": [
        "### **Reshape images and make them Black and White**"
      ]
    },
    {
      "cell_type": "code",
      "metadata": {
        "id": "MNMifsyoler1",
        "colab_type": "code",
        "colab": {},
        "outputId": "609f5378-f4d8-4dd6-b3f0-0b9bf307823e"
      },
      "source": [
        "imagex = []\n",
        "y = []\n",
        "\n",
        "filenames = glob.glob(\"imagens/30/*.jpg\")\n",
        "images = [cv2.imread(img) for img in filenames]\n",
        "\n",
        "for img in images:\n",
        "    #print (img)\n",
        "    gray_image = cv2.cvtColor(img, cv2.COLOR_BGR2GRAY)\n",
        "    a = resize(gray_image, preserve_range=True, output_shape=(224,224)).astype(int)      # reshaping to 224*224*3\n",
        "    imagex.append(a)    \n",
        "    y.append(0)\n",
        "\n",
        "filenames = glob.glob(\"imagens/70/*.jpg\")\n",
        "images = [cv2.imread(img) for img in filenames]\n",
        "\n",
        "\n",
        "for img in images:\n",
        "    #print (img)\n",
        "    gray_image = cv2.cvtColor(img, cv2.COLOR_BGR2GRAY)\n",
        "    a = resize(gray_image, preserve_range=True, output_shape=(224,224)).astype(int)      # reshaping to 224*224*3\n",
        "    imagex.append(a)\n",
        "    y.append(1)\n",
        "\n",
        "\n",
        "X = np.array(imagex)\n",
        "new = int(X.shape[0]/timesteps)\n",
        "X = X.reshape(int(X.shape[0]/timesteps), timesteps, 50176)\n",
        "X.shape\n",
        "\n"
      ],
      "execution_count": null,
      "outputs": [
        {
          "output_type": "execute_result",
          "data": {
            "text/plain": [
              "(8, 25, 50176)"
            ]
          },
          "metadata": {
            "tags": []
          },
          "execution_count": 20
        }
      ]
    },
    {
      "cell_type": "code",
      "metadata": {
        "id": "3KpkqZm1ler6",
        "colab_type": "code",
        "colab": {},
        "outputId": "a6160047-de4a-407c-f24a-21b276377fbe"
      },
      "source": [
        "y = np.array(y)\n",
        "y = y[::timesteps]\n",
        "y = np_utils.to_categorical(y)\n",
        "y.shape\n"
      ],
      "execution_count": null,
      "outputs": [
        {
          "output_type": "execute_result",
          "data": {
            "text/plain": [
              "(8, 2)"
            ]
          },
          "metadata": {
            "tags": []
          },
          "execution_count": 21
        }
      ]
    },
    {
      "cell_type": "markdown",
      "metadata": {
        "id": "GHM3yLLjm998",
        "colab_type": "text"
      },
      "source": [
        "### **Build the sequential model using Time Distributed function**"
      ]
    },
    {
      "cell_type": "code",
      "metadata": {
        "id": "Xc2WklNwler9",
        "colab_type": "code",
        "colab": {}
      },
      "source": [
        "model = Sequential()\n",
        "model.add(TimeDistributed(Conv2D(64, (3, 3), padding='same', strides = 3, activation='relu')))\n",
        "model.add(TimeDistributed(MaxPooling2D(pool_size=(3, 3),strides=(3, 3))))\n"
      ],
      "execution_count": null,
      "outputs": []
    },
    {
      "cell_type": "markdown",
      "metadata": {
        "id": "Telu_T0WnAyA",
        "colab_type": "text"
      },
      "source": [
        "### **Add the LSTM (Long Short Term Memory) algorithm**"
      ]
    },
    {
      "cell_type": "code",
      "metadata": {
        "id": "O2cpzXhaler_",
        "colab_type": "code",
        "colab": {}
      },
      "source": [
        "model = Sequential()\n",
        "model.add(LSTM(120, return_sequences=False, stateful=False,\n",
        "               batch_input_shape=(batch_size, timesteps, 50176)))\n",
        "#model.add(LSTM(32, return_sequences=True, stateful=False))\n",
        "#model.add(LSTM(32, stateful=False))\n",
        "model.add(Dense(2, activation='exponential'))\n",
        "\n",
        "\n",
        "#otim = optimizers.SGD(lr=0.1)\n",
        "\n",
        "\n",
        "model.compile(loss='categorical_crossentropy',\n",
        "              optimizer='SGD', \n",
        "              metrics=['accuracy'])\n",
        "\n",
        "\n"
      ],
      "execution_count": null,
      "outputs": []
    },
    {
      "cell_type": "markdown",
      "metadata": {
        "id": "piZCrbjZnfr4",
        "colab_type": "text"
      },
      "source": [
        "### **Train te model and save the weights**"
      ]
    },
    {
      "cell_type": "code",
      "metadata": {
        "id": "9zrTLlPBlesE",
        "colab_type": "code",
        "colab": {},
        "outputId": "8b3175ad-4a19-456e-c62a-91577ff064cb"
      },
      "source": [
        "history = model.fit(X, y,\n",
        "batch_size=batch_size, epochs=30, shuffle=False, verbose = 1)\n",
        "#callbacks=[PlotLossesCallback()]\n",
        "# serialize model to YAML\n",
        "model_yaml = model.to_yaml()\n",
        "with open(\"model.yaml\", \"w\") as yaml_file:\n",
        "    yaml_file.write(model_yaml)\n",
        "# serialize weights to HDF5\n",
        "model.save_weights(\"model.h5\")\n",
        "print(\"Saved model to disk\")"
      ],
      "execution_count": null,
      "outputs": [
        {
          "output_type": "stream",
          "text": [
            "Epoch 1/30\n",
            "8/8 [==============================] - 6s 791ms/step - loss: 0.7940 - acc: 0.5000\n",
            "Epoch 2/30\n",
            "8/8 [==============================] - 4s 561ms/step - loss: 0.7205 - acc: 0.6250\n",
            "Epoch 3/30\n",
            "8/8 [==============================] - 4s 559ms/step - loss: 0.7197 - acc: 0.5000\n",
            "Epoch 4/30\n",
            "8/8 [==============================] - 4s 550ms/step - loss: 0.7127 - acc: 0.5000\n",
            "Epoch 5/30\n",
            "8/8 [==============================] - 4s 557ms/step - loss: 0.6994 - acc: 0.5000\n",
            "Epoch 6/30\n",
            "8/8 [==============================] - 4s 561ms/step - loss: 0.6839 - acc: 0.5000\n",
            "Epoch 7/30\n",
            "8/8 [==============================] - 4s 557ms/step - loss: 0.6680 - acc: 0.5000\n",
            "Epoch 8/30\n",
            "8/8 [==============================] - 4s 549ms/step - loss: 0.6522 - acc: 0.6250\n",
            "Epoch 9/30\n",
            "8/8 [==============================] - 4s 545ms/step - loss: 0.6369 - acc: 0.7500\n",
            "Epoch 10/30\n",
            "8/8 [==============================] - 4s 554ms/step - loss: 0.6220 - acc: 0.7500\n",
            "Epoch 11/30\n",
            "8/8 [==============================] - 5s 564ms/step - loss: 0.6077 - acc: 0.7500\n",
            "Epoch 12/30\n",
            "8/8 [==============================] - 4s 549ms/step - loss: 0.5938 - acc: 0.7500\n",
            "Epoch 13/30\n",
            "8/8 [==============================] - 4s 550ms/step - loss: 0.5804 - acc: 0.7500\n",
            "Epoch 14/30\n",
            "8/8 [==============================] - 4s 556ms/step - loss: 0.5674 - acc: 0.7500\n",
            "Epoch 15/30\n",
            "8/8 [==============================] - 4s 557ms/step - loss: 0.5548 - acc: 0.7500\n",
            "Epoch 16/30\n",
            "8/8 [==============================] - 4s 556ms/step - loss: 0.5426 - acc: 0.7500\n",
            "Epoch 17/30\n",
            "8/8 [==============================] - 4s 554ms/step - loss: 0.5309 - acc: 1.0000\n",
            "Epoch 18/30\n",
            "8/8 [==============================] - 4s 554ms/step - loss: 0.5195 - acc: 1.0000\n",
            "Epoch 19/30\n",
            "8/8 [==============================] - 4s 554ms/step - loss: 0.5085 - acc: 1.0000\n",
            "Epoch 20/30\n",
            "8/8 [==============================] - 4s 541ms/step - loss: 0.4979 - acc: 1.0000\n",
            "Epoch 21/30\n",
            "8/8 [==============================] - 5s 566ms/step - loss: 0.4875 - acc: 1.0000\n",
            "Epoch 22/30\n",
            "8/8 [==============================] - 4s 561ms/step - loss: 0.4776 - acc: 1.0000\n",
            "Epoch 23/30\n",
            "8/8 [==============================] - 4s 557ms/step - loss: 0.4679 - acc: 1.0000\n",
            "Epoch 24/30\n",
            "8/8 [==============================] - 5s 567ms/step - loss: 0.4585 - acc: 1.0000\n",
            "Epoch 25/30\n",
            "8/8 [==============================] - 4s 553ms/step - loss: 0.4495 - acc: 1.0000\n",
            "Epoch 26/30\n",
            "8/8 [==============================] - 4s 551ms/step - loss: 0.4407 - acc: 1.0000\n",
            "Epoch 27/30\n",
            "8/8 [==============================] - 4s 550ms/step - loss: 0.4322 - acc: 1.0000\n",
            "Epoch 28/30\n",
            "8/8 [==============================] - 4s 555ms/step - loss: 0.4239 - acc: 1.0000\n",
            "Epoch 29/30\n",
            "8/8 [==============================] - 4s 556ms/step - loss: 0.4159 - acc: 1.0000\n",
            "Epoch 30/30\n",
            "8/8 [==============================] - 4s 557ms/step - loss: 0.4082 - acc: 1.0000\n",
            "Saved model to disk\n"
          ],
          "name": "stdout"
        }
      ]
    },
    {
      "cell_type": "markdown",
      "metadata": {
        "id": "X24GayYSnpkh",
        "colab_type": "text"
      },
      "source": [
        "### **Plot training accuracy and Loss**"
      ]
    },
    {
      "cell_type": "code",
      "metadata": {
        "id": "mOq6kNgelesJ",
        "colab_type": "code",
        "colab": {},
        "outputId": "b1846b90-abbe-4ca6-f63c-b1e8abc72915"
      },
      "source": [
        "print(history.history.keys())\n",
        "#  \"Accuracy\"\n",
        "plt.plot(history.history['acc'])\n",
        "#plt.plot(history.history['val_acc'])\n",
        "plt.title('model accuracy')\n",
        "plt.ylabel('accuracy')\n",
        "plt.xlabel('epoch')\n",
        "plt.legend(['train', 'validation'], loc='upper left')\n",
        "plt.show()\n",
        "# \"Loss\"\n",
        "plt.plot(history.history['loss'])\n",
        "#plt.plot(history.history['val_loss'])\n",
        "plt.title('model loss')\n",
        "plt.ylabel('loss')\n",
        "plt.xlabel('epoch')\n",
        "plt.legend(['train', 'validation'], loc='upper left')\n",
        "plt.show()"
      ],
      "execution_count": null,
      "outputs": [
        {
          "output_type": "stream",
          "text": [
            "dict_keys(['loss', 'acc'])\n"
          ],
          "name": "stdout"
        },
        {
          "output_type": "display_data",
          "data": {
            "image/png": "[encoded data removed]",
            "text/plain": [
              "<matplotlib.figure.Figure at 0x7f04485d8c50>"
            ]
          },
          "metadata": {
            "tags": []
          }
        },
        {
          "output_type": "display_data",
          "data": {
            "image/png": "[encoded data removed]",
            "text/plain": [
              "<matplotlib.figure.Figure at 0x7f044857fa20>"
            ]
          },
          "metadata": {
            "tags": []
          }
        }
      ]
    },
    {
      "cell_type": "code",
      "metadata": {
        "id": "aEpHB0vOlesM",
        "colab_type": "code",
        "colab": {}
      },
      "source": [
        ""
      ],
      "execution_count": null,
      "outputs": []
    },
    {
      "cell_type": "markdown",
      "metadata": {
        "collapsed": false,
        "scrolled": true,
        "id": "6c25nmkPlesO",
        "colab_type": "text"
      },
      "source": [
        "### **Predict velocity of the fishe (30 or 70 cms/s) in never seen group of frames**"
      ]
    },
    {
      "cell_type": "code",
      "metadata": {
        "id": "Pi5INoDulesW",
        "colab_type": "code",
        "colab": {},
        "outputId": "fa5f85ee-203d-4ac2-bd89-900877f421d2"
      },
      "source": [
        "imagex = []\n",
        "\n",
        "filenames = glob.glob(\"imagens/test/*.jpg\")\n",
        "images = [cv2.imread(img) for img in filenames]\n",
        "\n",
        "for img in images:\n",
        "    #print (img)\n",
        "    gray_image = cv2.cvtColor(img, cv2.COLOR_BGR2GRAY)\n",
        "    a = resize(gray_image, preserve_range=True, output_shape=(224,224)).astype(int)      # reshaping to 224*224*3\n",
        "    imagex.append(a)    \n",
        "    \n",
        "X2 = np.array(imagex)\n",
        "X2 = X2.reshape(1, X2.shape[0], 50176)\n",
        "model2 = Sequential()\n",
        "model2.add(LSTM(120, return_sequences=False, stateful=False,\n",
        "               batch_input_shape=(batch_size, timesteps, 50176)))\n",
        "#model2.add(LSTM(32, return_sequences=True, stateful=False))\n",
        "#model2.add(LSTM(32, stateful=False))\n",
        "model2.add(Dense(2, activation='sigmoid'))\n",
        "old_weights = model.get_weights()\n",
        "model2.set_weights(old_weights)\n",
        "\n",
        "model2.compile(loss='categorical_crossentropy',\n",
        "              optimizer='rmsprop',\n",
        "              metrics=['accuracy'])\n",
        "\n",
        "resultado = model.predict_classes(X2, verbose=1)\n",
        "if resultado[0] == 0:\n",
        "        print(\"30\")\n",
        "else:\n",
        "        print(\"70\")"
      ],
      "execution_count": null,
      "outputs": [
        {
          "output_type": "stream",
          "text": [
            "1/1 [==============================] - 0s 180ms/step\n",
            "70\n"
          ],
          "name": "stdout"
        }
      ]
    },
    {
      "cell_type": "code",
      "metadata": {
        "id": "-oGH4A0VoQsK",
        "colab_type": "code",
        "colab": {}
      },
      "source": [
        ""
      ],
      "execution_count": null,
      "outputs": []
    },
    {
      "cell_type": "markdown",
      "metadata": {
        "id": "2gh0yOG0obs3",
        "colab_type": "text"
      },
      "source": [
        ""
      ]
    },
    {
      "cell_type": "markdown",
      "metadata": {
        "id": "yMqPgOj2oSET",
        "colab_type": "text"
      },
      "source": [
        "### **The same as before, but using a saved model**"
      ]
    },
    {
      "cell_type": "code",
      "metadata": {
        "id": "uzCuziPilesZ",
        "colab_type": "code",
        "colab": {},
        "outputId": "191f1aae-f956-48be-b111-a972c94af3a8"
      },
      "source": [
        "yaml_file = open('model.yaml', 'r')\n",
        "loaded_model_yaml = yaml_file.read()\n",
        "yaml_file.close()\n",
        "loaded_model = model_from_yaml(loaded_model_yaml)\n",
        "# load weights into new model\n",
        "loaded_model.load_weights(\"model.h5\")\n",
        "print(\"Loaded model from disk\")\n",
        "\n",
        "imagex = []\n",
        "\n",
        "filenames = glob.glob(\"imagens/teste/*.jpg\")\n",
        "images = [cv2.imread(img) for img in filenames]\n",
        "\n",
        "for img in images:\n",
        "    #print (img)\n",
        "    gray_image = cv2.cvtColor(img, cv2.COLOR_BGR2GRAY)\n",
        "    a = resize(gray_image, preserve_range=True, output_shape=(224,224)).astype(int)      # reshaping to 224*224*3\n",
        "    imagex.append(a)    \n",
        "    \n",
        "X2 = np.array(imagex)\n",
        "\n",
        "X2 = X2.reshape(batch_size, X2.shape[0], 50176)\n",
        "\n",
        "model2 = Sequential()\n",
        "model2.add(LSTM(120, return_sequences=False, stateful=False,\n",
        "               batch_input_shape=(batch_size, X2.shape[1], 50176)))\n",
        "#model2.add(LSTM(32, return_sequences=True, stateful=False))\n",
        "#model2.add(LSTM(32, stateful=False))\n",
        "model2.add(Dense(2, activation='sigmoid'))\n",
        "\n",
        "\n",
        "old_weights = loaded_model.get_weights()\n",
        "model2.set_weights(old_weights)\n",
        "\n",
        "model2.compile(loss='categorical_crossentropy',\n",
        "              optimizer='rmsprop',\n",
        "              metrics=['accuracy'])\n",
        "\n",
        "resultado = model2.predict_classes(X2, verbose=1)\n",
        "\n",
        "if resultado[0] == 0:\n",
        "        print(\"30 cm/s\")\n",
        "else:\n",
        "        print(\"70 cm/s\")\n",
        "\n",
        "\n",
        "\n",
        "\n",
        "\n",
        "\n",
        "\n",
        "\n",
        "\n",
        "\n",
        "\n",
        "\n",
        "\n",
        "\n",
        "\n"
      ],
      "execution_count": null,
      "outputs": [
        {
          "output_type": "stream",
          "text": [
            "Loaded model from disk\n",
            "1/1 [==============================] - 1s 1s/step\n",
            "70\n"
          ],
          "name": "stdout"
        }
      ]
    },
    {
      "cell_type": "code",
      "metadata": {
        "id": "g6SM1piXlesf",
        "colab_type": "code",
        "colab": {}
      },
      "source": [
        ""
      ],
      "execution_count": null,
      "outputs": []
    }
  ]
}
